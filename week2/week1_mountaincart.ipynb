{
 "cells": [
  {
   "cell_type": "markdown",
   "metadata": {},
   "source": [
    "# OpenAI gym frozenlake"
   ]
  },
  {
   "cell_type": "code",
   "execution_count": 1,
   "metadata": {},
   "outputs": [],
   "source": [
    "import gym"
   ]
  },
  {
   "cell_type": "code",
   "execution_count": 2,
   "metadata": {},
   "outputs": [],
   "source": [
    "from collections import defaultdict"
   ]
  },
  {
   "cell_type": "code",
   "execution_count": 3,
   "metadata": {},
   "outputs": [],
   "source": [
    "from tqdm import tqdm"
   ]
  },
  {
   "cell_type": "code",
   "execution_count": 4,
   "metadata": {},
   "outputs": [],
   "source": [
    "import random"
   ]
  },
  {
   "cell_type": "code",
   "execution_count": 5,
   "metadata": {},
   "outputs": [],
   "source": [
    "import matplotlib.pyplot as plt"
   ]
  },
  {
   "cell_type": "code",
   "execution_count": 6,
   "metadata": {},
   "outputs": [],
   "source": [
    "import numpy as np"
   ]
  },
  {
   "cell_type": "code",
   "execution_count": 8,
   "metadata": {},
   "outputs": [],
   "source": [
    "N_GAMES = 100"
   ]
  },
  {
   "cell_type": "code",
   "execution_count": 9,
   "metadata": {},
   "outputs": [
    {
     "name": "stderr",
     "output_type": "stream",
     "text": [
      "/home/matteo/miniconda3/envs/rl/lib/python3.7/site-packages/gym/logger.py:30: UserWarning: \u001b[33mWARN: Box bound precision lowered by casting to float32\u001b[0m\n",
      "  warnings.warn(colorize('%s: %s'%('WARN', msg % args), 'yellow'))\n"
     ]
    }
   ],
   "source": [
    "env = gym.make('MountainCar-v0')"
   ]
  },
  {
   "cell_type": "code",
   "execution_count": 34,
   "metadata": {},
   "outputs": [],
   "source": [
    "thresholds_p = np.linspace(-1.1,0.5, 10)\n",
    "thresholds_v = np.linspace(-0.06,0.06, 10)\n",
    "\n",
    "def discretize_state(s_cont):\n",
    "    \n",
    "#     thresholds_p = np.linspace(-1.1,0.5, 10)\n",
    "#     thresholds_v = np.linspace(-0.6,0.6, 10)\n",
    "    \n",
    "#     s_disc = (s_cont*beta).astype(int)\n",
    "\n",
    "#     return tuple(s_disc)\n",
    "\n",
    "    s_disc = (\n",
    "        np.digitize(s_cont[0], thresholds_p),\n",
    "        np.digitize(s_cont[1], thresholds_v))\n",
    "    \n",
    "    return s_disc\n",
    "    "
   ]
  },
  {
   "cell_type": "code",
   "execution_count": 11,
   "metadata": {},
   "outputs": [],
   "source": [
    "def choose_action_greedy(q_table, obs, env):\n",
    "    \n",
    "    max_i = 0\n",
    "    max_v = q_table[(obs, 0)]\n",
    "\n",
    "    for i in range(env.action_space.n):\n",
    "        v = q_table[(obs, i)]\n",
    "\n",
    "        if v > max_v:\n",
    "            max_v = v\n",
    "            max_i = i\n",
    "\n",
    "    return max_i"
   ]
  },
  {
   "cell_type": "code",
   "execution_count": 12,
   "metadata": {},
   "outputs": [],
   "source": [
    "def choose_action_eps(q_table, obs, env, eps):\n",
    "    \n",
    "    # q_table[obs, a]\n",
    "    \n",
    "    if random.random() < eps:\n",
    "        return env.action_space.sample()\n",
    "    else:\n",
    "        return choose_action_greedy(q_table, obs, env)"
   ]
  },
  {
   "cell_type": "code",
   "execution_count": 13,
   "metadata": {},
   "outputs": [],
   "source": [
    "def test_game(env, q_table, n_games=N_GAMES):\n",
    "    \n",
    "    total_reward = 0.0\n",
    "    \n",
    "    for _ in range(n_games):\n",
    "\n",
    "        done = False\n",
    "        obs = env.reset()\n",
    "\n",
    "        while not done:\n",
    "            # Choose an action greedily\n",
    "            new_obs, reward, done, info = env.step(choose_action_greedy(q_table, discretize_state(obs), env))\n",
    "            total_reward += reward\n",
    "            \n",
    "            obs = new_obs\n",
    "\n",
    "    return total_reward/n_games\n"
   ]
  },
  {
   "cell_type": "code",
   "execution_count": 14,
   "metadata": {},
   "outputs": [],
   "source": [
    "def q_learning(q_table, obs, action, reward, new_obs, n_actions, lr, gamma):\n",
    "    \"\"\"\n",
    "    lr : float\n",
    "        Learning rate\n",
    "    gamma : float\n",
    "        Discount factor for future rewards\n",
    "    \"\"\"\n",
    "    \n",
    "    # TD(0) learning\n",
    "\n",
    "    # Update entry using bellman's equation\n",
    "#     q_table[(obs, action)] += lr * (\n",
    "#         reward + \n",
    "#         gamma*max([q_table[(new_obs, a)] for a in range(n_actions)]) -\n",
    "#         q_table[(obs, action)])\n",
    "    \n",
    "    \n",
    "    target = reward + gamma * max([q_table[(new_obs, a)] for a in range(n_actions)]) \n",
    "    \n",
    "    q_error = target - q_table[(obs, action)]\n",
    "    \n",
    "    q_table[(obs, action)] += lr * q_error"
   ]
  },
  {
   "cell_type": "code",
   "execution_count": 17,
   "metadata": {},
   "outputs": [],
   "source": [
    "EPS_DECAY = 0.99993\n",
    "GAMMA = 0.99\n",
    "LR = 0.8\n",
    "\n",
    "EVALUATE_EVERY = 1000"
   ]
  },
  {
   "cell_type": "code",
   "execution_count": 36,
   "metadata": {},
   "outputs": [],
   "source": [
    "def training(env, q_table, n_episodes, eps, eps_decay=EPS_DECAY, evaluate_every=EVALUATE_EVERY):\n",
    "    \n",
    "    mean_rewards = list()\n",
    "    \n",
    "    total_reward = 0\n",
    "\n",
    "    for i in range(n_episodes):\n",
    "        done = False\n",
    "\n",
    "        obs = env.reset()\n",
    "\n",
    "        while not done:\n",
    "            # Choose an action epsilon-greedily\n",
    "            action = choose_action_eps(q_table, discretize_state(obs), env, eps)\n",
    "\n",
    "            new_obs, reward, done, info = env.step(action)\n",
    "            \n",
    "            total_reward += reward\n",
    "            \n",
    "            print(discretize_state(obs))\n",
    "\n",
    "            q_learning(q_table, discretize_state(obs), action, reward, discretize_state(new_obs), n_actions, lr=LR, gamma=GAMMA)\n",
    "            obs = new_obs\n",
    "\n",
    "        eps *= eps_decay\n",
    "\n",
    "        # Evaluate policy every N games\n",
    "        if (i+1)%evaluate_every == 0:\n",
    "\n",
    "            test_reward = test_game(env, q_table)\n",
    "            print(f'\\tEp: {i+1}  Average reward: {total_reward/evaluate_every} Test reward: {test_reward} {eps:.2f}')\n",
    "            \n",
    "            total_reward = 0\n",
    "\n",
    "            mean_rewards.append(test_reward)\n",
    "            \n",
    "    return mean_rewards"
   ]
  },
  {
   "cell_type": "code",
   "execution_count": 37,
   "metadata": {},
   "outputs": [
    {
     "name": "stdout",
     "output_type": "stream",
     "text": [
      "\tEp: 1000  Total reward: -200000.0 Test reward: -200.0 0.93\n",
      "\tEp: 2000  Total reward: -400000.0 Test reward: -200.0 0.87\n",
      "\tEp: 3000  Total reward: -600000.0 Test reward: -200.0 0.81\n",
      "\tEp: 4000  Total reward: -800000.0 Test reward: -200.0 0.76\n",
      "\tEp: 5000  Total reward: -1000000.0 Test reward: -200.0 0.70\n",
      "\tEp: 6000  Total reward: -1200000.0 Test reward: -200.0 0.66\n",
      "\tEp: 7000  Total reward: -1400000.0 Test reward: -200.0 0.61\n",
      "\tEp: 8000  Total reward: -1600000.0 Test reward: -200.0 0.57\n",
      "\tEp: 9000  Total reward: -1800000.0 Test reward: -200.0 0.53\n",
      "\tEp: 10000  Total reward: -2000000.0 Test reward: -200.0 0.50\n",
      "\tEp: 11000  Total reward: -2200000.0 Test reward: -200.0 0.46\n",
      "\tEp: 12000  Total reward: -2400000.0 Test reward: -200.0 0.43\n",
      "\tEp: 13000  Total reward: -2600000.0 Test reward: -200.0 0.40\n",
      "\tEp: 14000  Total reward: -2800000.0 Test reward: -200.0 0.38\n",
      "\tEp: 15000  Total reward: -3000000.0 Test reward: -200.0 0.35\n",
      "\tEp: 16000  Total reward: -3200000.0 Test reward: -200.0 0.33\n",
      "\tEp: 17000  Total reward: -3400000.0 Test reward: -200.0 0.30\n",
      "\tEp: 18000  Total reward: -3600000.0 Test reward: -200.0 0.28\n",
      "\tEp: 19000  Total reward: -3800000.0 Test reward: -200.0 0.26\n",
      "\tEp: 20000  Total reward: -4000000.0 Test reward: -200.0 0.25\n",
      "\tEp: 21000  Total reward: -4200000.0 Test reward: -200.0 0.23\n",
      "\tEp: 22000  Total reward: -4400000.0 Test reward: -200.0 0.21\n",
      "\tEp: 23000  Total reward: -4600000.0 Test reward: -200.0 0.20\n",
      "\tEp: 24000  Total reward: -4799952.0 Test reward: -200.0 0.19\n",
      "\tEp: 25000  Total reward: -4999952.0 Test reward: -200.0 0.17\n",
      "\tEp: 26000  Total reward: -5199952.0 Test reward: -200.0 0.16\n",
      "\tEp: 27000  Total reward: -5399952.0 Test reward: -200.0 0.15\n",
      "\tEp: 28000  Total reward: -5599952.0 Test reward: -200.0 0.14\n",
      "\tEp: 29000  Total reward: -5799952.0 Test reward: -200.0 0.13\n",
      "\tEp: 30000  Total reward: -5999952.0 Test reward: -200.0 0.12\n"
     ]
    }
   ],
   "source": [
    "# Main learning loop\n",
    "\n",
    "N_EPISODES = 30000\n",
    "\n",
    "eps = 1.0\n",
    "\n",
    "q_table = defaultdict(float)\n",
    "\n",
    "# Save n of actions\n",
    "n_actions = env.action_space.n\n",
    "\n",
    "mean_rewards = training(env, q_table, N_EPISODES, eps)"
   ]
  },
  {
   "cell_type": "code",
   "execution_count": 38,
   "metadata": {},
   "outputs": [
    {
     "data": {
      "image/png": "[encoded data removed]",
      "text/plain": [
       "<Figure size 1296x648 with 1 Axes>"
      ]
     },
     "metadata": {
      "needs_background": "light"
     },
     "output_type": "display_data"
    }
   ],
   "source": [
    "plt.figure(figsize=(18,9))\n",
    "plt.plot(mean_rewards)\n",
    "plt.title(\"Mean rewards every N Iterations\");"
   ]
  },
  {
   "cell_type": "code",
   "execution_count": null,
   "metadata": {},
   "outputs": [],
   "source": [
    "1/0"
   ]
  },
  {
   "cell_type": "code",
   "execution_count": 28,
   "metadata": {},
   "outputs": [
    {
     "name": "stdout",
     "output_type": "stream",
     "text": [
      "[19 15]\n"
     ]
    },
    {
     "name": "stderr",
     "output_type": "stream",
     "text": [
      "/home/matteo/miniconda3/envs/rl/lib/python3.7/site-packages/gym/logger.py:30: UserWarning: \u001b[33mWARN: Box bound precision lowered by casting to float32\u001b[0m\n",
      "  warnings.warn(colorize('%s: %s'%('WARN', msg % args), 'yellow'))\n"
     ]
    },
    {
     "ename": "ZeroDivisionError",
     "evalue": "division by zero",
     "output_type": "error",
     "traceback": [
      "\u001b[0;31m---------------------------------------------------------------------------\u001b[0m",
      "\u001b[0;31mZeroDivisionError\u001b[0m                         Traceback (most recent call last)",
      "\u001b[0;32m<ipython-input-28-96d18f03e4b0>\u001b[0m in \u001b[0;36m<module>\u001b[0;34m\u001b[0m\n\u001b[1;32m     91\u001b[0m \u001b[0;34m\u001b[0m\u001b[0m\n\u001b[1;32m     92\u001b[0m \u001b[0;31m# Run Q-learning algorithm\u001b[0m\u001b[0;34m\u001b[0m\u001b[0;34m\u001b[0m\u001b[0;34m\u001b[0m\u001b[0m\n\u001b[0;32m---> 93\u001b[0;31m \u001b[0mrewards\u001b[0m \u001b[0;34m=\u001b[0m \u001b[0mQLearning\u001b[0m\u001b[0;34m(\u001b[0m\u001b[0menv\u001b[0m\u001b[0;34m,\u001b[0m \u001b[0;36m0.2\u001b[0m\u001b[0;34m,\u001b[0m \u001b[0;36m0.9\u001b[0m\u001b[0;34m,\u001b[0m \u001b[0;36m0.8\u001b[0m\u001b[0;34m,\u001b[0m \u001b[0;36m0\u001b[0m\u001b[0;34m,\u001b[0m \u001b[0;36m5000\u001b[0m\u001b[0;34m)\u001b[0m\u001b[0;34m\u001b[0m\u001b[0;34m\u001b[0m\u001b[0m\n\u001b[0m\u001b[1;32m     94\u001b[0m \u001b[0;34m\u001b[0m\u001b[0m\n\u001b[1;32m     95\u001b[0m \u001b[0;31m# Plot Rewards\u001b[0m\u001b[0;34m\u001b[0m\u001b[0;34m\u001b[0m\u001b[0;34m\u001b[0m\u001b[0m\n",
      "\u001b[0;32m<ipython-input-28-96d18f03e4b0>\u001b[0m in \u001b[0;36mQLearning\u001b[0;34m(env, learning, discount, epsilon, min_eps, episodes)\u001b[0m\n\u001b[1;32m     12\u001b[0m     \u001b[0mprint\u001b[0m\u001b[0;34m(\u001b[0m\u001b[0mnum_states\u001b[0m\u001b[0;34m)\u001b[0m\u001b[0;34m\u001b[0m\u001b[0;34m\u001b[0m\u001b[0m\n\u001b[1;32m     13\u001b[0m \u001b[0;34m\u001b[0m\u001b[0m\n\u001b[0;32m---> 14\u001b[0;31m     \u001b[0;36m1\u001b[0m\u001b[0;34m/\u001b[0m\u001b[0;36m0\u001b[0m\u001b[0;34m\u001b[0m\u001b[0;34m\u001b[0m\u001b[0m\n\u001b[0m\u001b[1;32m     15\u001b[0m \u001b[0;34m\u001b[0m\u001b[0m\n\u001b[1;32m     16\u001b[0m     \u001b[0;31m# Initialize Q table\u001b[0m\u001b[0;34m\u001b[0m\u001b[0;34m\u001b[0m\u001b[0;34m\u001b[0m\u001b[0m\n",
      "\u001b[0;31mZeroDivisionError\u001b[0m: division by zero"
     ]
    }
   ],
   "source": [
    "# Import and initialize Mountain Car Environment\n",
    "env = gym.make('MountainCar-v0')\n",
    "env.reset()\n",
    "\n",
    "# Define Q-learning function\n",
    "def QLearning(env, learning, discount, epsilon, min_eps, episodes):\n",
    "    # Determine size of discretized state space\n",
    "    num_states = (env.observation_space.high - env.observation_space.low)*\\\n",
    "                    np.array([10, 100])\n",
    "    num_states = np.round(num_states, 0).astype(int) + 1\n",
    "    \n",
    "    print(num_states)\n",
    "    \n",
    "    1/0\n",
    "    \n",
    "    # Initialize Q table\n",
    "    Q = np.random.uniform(low = -1, high = 1, \n",
    "                          size = (num_states[0], num_states[1], \n",
    "                                  env.action_space.n))\n",
    "    \n",
    "    # Initialize variables to track rewards\n",
    "    reward_list = []\n",
    "    ave_reward_list = []\n",
    "    \n",
    "    # Calculate episodic reduction in epsilon\n",
    "    reduction = (epsilon - min_eps)/episodes\n",
    "    \n",
    "    # Run Q learning algorithm\n",
    "    for i in range(episodes):\n",
    "        # Initialize parameters\n",
    "        done = False\n",
    "        tot_reward, reward = 0,0\n",
    "        state = env.reset()\n",
    "        \n",
    "        # Discretize state\n",
    "        state_adj = (state - env.observation_space.low)*np.array([10, 100])\n",
    "        state_adj = np.round(state_adj, 0).astype(int)\n",
    "    \n",
    "        while done != True:   \n",
    "            # Render environment for last five episodes\n",
    "            if i >= (episodes - 20):\n",
    "                env.render()\n",
    "                \n",
    "            # Determine next action - epsilon greedy strategy\n",
    "            if np.random.random() < 1 - epsilon:\n",
    "                action = np.argmax(Q[state_adj[0], state_adj[1]]) \n",
    "            else:\n",
    "                action = np.random.randint(0, env.action_space.n)\n",
    "                \n",
    "            # Get next state and reward\n",
    "            state2, reward, done, info = env.step(action) \n",
    "            \n",
    "            # Discretize state2\n",
    "            state2_adj = (state2 - env.observation_space.low)*np.array([10, 100])\n",
    "            state2_adj = np.round(state2_adj, 0).astype(int)\n",
    "            \n",
    "            #Allow for terminal states\n",
    "            if done and state2[0] >= 0.5:\n",
    "                Q[state_adj[0], state_adj[1], action] = reward\n",
    "                \n",
    "            # Adjust Q value for current state\n",
    "            else:\n",
    "                delta = learning*(reward + \n",
    "                                 discount*np.max(Q[state2_adj[0], \n",
    "                                                   state2_adj[1]]) - \n",
    "                                 Q[state_adj[0], state_adj[1],action])\n",
    "                Q[state_adj[0], state_adj[1],action] += delta\n",
    "                                     \n",
    "            # Update variables\n",
    "            tot_reward += reward\n",
    "            state_adj = state2_adj\n",
    "        \n",
    "        # Decay epsilon\n",
    "        if epsilon > min_eps:\n",
    "            epsilon -= reduction\n",
    "        \n",
    "        # Track rewards\n",
    "        reward_list.append(tot_reward)\n",
    "        \n",
    "        if (i+1) % 100 == 0:\n",
    "            ave_reward = np.mean(reward_list)\n",
    "            ave_reward_list.append(ave_reward)\n",
    "            reward_list = []\n",
    "            \n",
    "        if (i+1) % 100 == 0:    \n",
    "            print('Episode {} Average Reward: {}'.format(i+1, ave_reward))\n",
    "            \n",
    "    env.close()\n",
    "    \n",
    "    return ave_reward_list\n",
    "\n",
    "# Run Q-learning algorithm\n",
    "rewards = QLearning(env, 0.2, 0.9, 0.8, 0, 5000)\n",
    "\n",
    "# Plot Rewards\n",
    "plt.plot(100*(np.arange(len(rewards)) + 1), rewards)\n",
    "plt.xlabel('Episodes')\n",
    "plt.ylabel('Average Reward')\n",
    "plt.title('Average Reward vs Episodes')\n",
    "# plt.savefig('rewards.jpg')   \n",
    "plt.close() "
   ]
  }
 ],
 "metadata": {
  "kernelspec": {
   "display_name": "Python 3",
   "language": "python",
   "name": "python3"
  },
  "language_info": {
   "codemirror_mode": {
    "name": "ipython",
    "version": 3
   },
   "file_extension": ".py",
   "mimetype": "text/x-python",
   "name": "python",
   "nbconvert_exporter": "python",
   "pygments_lexer": "ipython3",
   "version": "3.7.6"
  }
 },
 "nbformat": 4,
 "nbformat_minor": 4
}
